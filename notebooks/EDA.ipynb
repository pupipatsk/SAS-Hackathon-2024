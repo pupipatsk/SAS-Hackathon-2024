{
 "cells": [
  {
   "cell_type": "code",
   "execution_count": 1,
   "metadata": {},
   "outputs": [],
   "source": [
    "### --- System and Path --- ###\n",
    "import os\n",
    "import sys\n",
    "REPO_PATH = os.path.abspath(os.path.join('..')) # depend on specific directory structure\n",
    "if REPO_PATH not in sys.path:\n",
    "    sys.path.append(REPO_PATH)\n",
    "import warnings\n",
    "warnings.filterwarnings('ignore')\n",
    "\n",
    "### --- Data Manipulation --- ###\n",
    "import pandas as pd\n",
    "import numpy as np\n",
    "np.random.seed(42)\n",
    "\n",
    "### --- Visualization --- ###\n",
    "import matplotlib.pyplot as plt\n",
    "plt.style.use('seaborn-v0_8-whitegrid')\n",
    "# plt.rcParams[\"font.family\"] = \"tahoma\" # TH font\n",
    "\n",
    "import seaborn as sns\n",
    "sns.set_theme(style=\"whitegrid\")\n"
   ]
  },
  {
   "cell_type": "code",
   "execution_count": 2,
   "metadata": {},
   "outputs": [],
   "source": [
    "df_train = pd.read_csv(REPO_PATH+'/data/table_FUNDRAISE_R2_TRAIN.csv')"
   ]
  },
  {
   "cell_type": "markdown",
   "metadata": {},
   "source": [
    "# Quality check"
   ]
  },
  {
   "cell_type": "code",
   "execution_count": 3,
   "metadata": {},
   "outputs": [],
   "source": [
    "def inconsistent(df):\n",
    "    inconsistent_cols =  ['Recency', 'Frequency', 'Seniority', 'TotalGift', 'MinGift', 'MaxGift']\n",
    "    # df = df.drop(columns=inconsistent_cols)\n",
    "\n",
    "    # convert to numeric\n",
    "    for col in inconsistent_cols:\n",
    "        df[col] = df[col].str.strip()\n",
    "        df[col] = pd.to_numeric(df[col], errors='coerce')\n",
    "\n",
    "    return df\n",
    "\n",
    "def asdtype(df):\n",
    "    dtype_dict = {\n",
    "        'ID': object,\n",
    "        'Contact': bool,\n",
    "        'LastName': object,\n",
    "        'FirstName': object,\n",
    "        'Woman': bool,\n",
    "        'Age': int,\n",
    "        'Salary': int,\n",
    "        'Education': object,\n",
    "        'City': object,\n",
    "        'SeniorList': int,\n",
    "        'NbActivities': int,\n",
    "        'Referrals': int,\n",
    "        'Recency': 'Int64', # nullable integer type\n",
    "        'Frequency': 'Int64',\n",
    "        'Seniority': 'Int64',\n",
    "        'TotalGift': 'Int64',\n",
    "        'MinGift': 'Int64',\n",
    "        'MaxGift': 'Int64',\n",
    "        'GaveLastYear': bool,\n",
    "        'AmtLastYear': int\n",
    "    }\n",
    "    df = df.astype(dtype_dict)\n",
    "\n",
    "    if 'GaveThisYear' in df.columns:\n",
    "        df['GaveThisYear'] = df['GaveThisYear'].astype(bool)\n",
    "    if 'AmtThisYear' in df.columns:\n",
    "        df['AmtThisYear'] = df['AmtThisYear'].astype(float)\n",
    "\n",
    "    return df"
   ]
  },
  {
   "cell_type": "code",
   "execution_count": 4,
   "metadata": {},
   "outputs": [],
   "source": [
    "df_train = inconsistent(df_train)\n",
    "df_train = asdtype(df_train)"
   ]
  },
  {
   "cell_type": "code",
   "execution_count": 5,
   "metadata": {},
   "outputs": [
    {
     "name": "stdout",
     "output_type": "stream",
     "text": [
      "#Duplicate: 0\n"
     ]
    }
   ],
   "source": [
    "print(\"#Duplicate:\", df_train.drop(columns=['ID'], inplace=False).duplicated().sum())"
   ]
  },
  {
   "cell_type": "code",
   "execution_count": 6,
   "metadata": {},
   "outputs": [
    {
     "data": {
      "text/plain": [
       "ID                   0\n",
       "Contact              0\n",
       "GaveThisYear         0\n",
       "AmtThisYear          0\n",
       "LastName            23\n",
       "FirstName            4\n",
       "Woman                0\n",
       "Age                  0\n",
       "Salary               0\n",
       "Education            0\n",
       "City                 0\n",
       "SeniorList           0\n",
       "NbActivities         0\n",
       "Referrals            0\n",
       "Recency         663666\n",
       "Frequency       663666\n",
       "Seniority       663666\n",
       "TotalGift       663666\n",
       "MinGift         663666\n",
       "MaxGift         663666\n",
       "GaveLastYear         0\n",
       "AmtLastYear          0\n",
       "dtype: int64"
      ]
     },
     "execution_count": 6,
     "metadata": {},
     "output_type": "execute_result"
    }
   ],
   "source": [
    "df_train.isnull().sum()"
   ]
  },
  {
   "cell_type": "markdown",
   "metadata": {},
   "source": [
    "# Univariate analysis"
   ]
  },
  {
   "cell_type": "code",
   "execution_count": 17,
   "metadata": {},
   "outputs": [],
   "source": [
    "# # plot scatter of AmtThisYear\n",
    "# plt.figure(figsize=(15, 10))\n",
    "# sns.scatterplot(data=df_train, x='ID', y='AmtThisYear')\n",
    "# plt.title('Scatter plot of AmtThisYear')\n",
    "# plt.show()"
   ]
  },
  {
   "cell_type": "code",
   "execution_count": 18,
   "metadata": {},
   "outputs": [],
   "source": [
    "# # plot distribution of AmtThisYear\n",
    "# plt.figure(figsize=(15, 10))\n",
    "# sns.histplot(data=df_train, x='AmtThisYear', bins=100)\n",
    "# plt.title('Distribution of AmtThisYear')\n",
    "# plt.show()"
   ]
  },
  {
   "cell_type": "markdown",
   "metadata": {},
   "source": [
    "# Bivariate analysis"
   ]
  },
  {
   "cell_type": "code",
   "execution_count": 35,
   "metadata": {},
   "outputs": [],
   "source": [
    "# # plot bar of target vs categorical columns\n",
    "# categorical_cols = ['Contact', 'City', 'Woman', 'Education', 'City','GaveLastYear']\n",
    "\n",
    "# target = 'GaveThisYear'\n",
    "# for col in categorical_cols:\n",
    "#     plt.figure(figsize=(15, 10))\n",
    "#     sns.countplot(data=df_train, x=col, hue=target)\n",
    "#     plt.title(f'Count plot of {col} vs {target}')\n",
    "#     plt.show()"
   ]
  }
 ],
 "metadata": {
  "kernelspec": {
   "display_name": "datascience",
   "language": "python",
   "name": "python3"
  },
  "language_info": {
   "codemirror_mode": {
    "name": "ipython",
    "version": 3
   },
   "file_extension": ".py",
   "mimetype": "text/x-python",
   "name": "python",
   "nbconvert_exporter": "python",
   "pygments_lexer": "ipython3",
   "version": "3.9.7"
  }
 },
 "nbformat": 4,
 "nbformat_minor": 2
}
